{
 "cells": [
  {
   "cell_type": "code",
   "execution_count": 1,
   "id": "a6f811f4-55a3-4241-b417-b449fea5e146",
   "metadata": {},
   "outputs": [],
   "source": [
    "import pandas as pd\n",
    "import numpy as np"
   ]
  },
  {
   "cell_type": "code",
   "execution_count": 2,
   "id": "67c23e7a-eaa3-4729-80d2-70233a703ed3",
   "metadata": {},
   "outputs": [],
   "source": [
    "def get_price_and_squared_price_df(start_price, end_price):\n",
    "    \"\"\" returns df w/ linearly increasing price and price^2 from start to end price \"\"\"\n",
    "    xs = np.linspace(start_price, end_price, abs(end_price-start_price)+1)\n",
    "    df = pd.DataFrame(data=xs, columns=['underlying'])\n",
    "    df['square'] = df['underlying']**2\n",
    "    \n",
    "    return df"
   ]
  },
  {
   "cell_type": "code",
   "execution_count": 3,
   "id": "2b80c52d-bebd-4fd8-9a35-0dc80593de62",
   "metadata": {},
   "outputs": [],
   "source": [
    "initial_purchase_price = 1000\n",
    "final_price = 3000"
   ]
  },
  {
   "cell_type": "code",
   "execution_count": 4,
   "id": "ffd80238-a23d-4f8b-b3d0-f88311504002",
   "metadata": {},
   "outputs": [],
   "source": [
    "# to test other direction\n",
    "# initial_purchase_price = 3000\n",
    "# final_price = 1000"
   ]
  },
  {
   "cell_type": "code",
   "execution_count": 5,
   "id": "651eee4f-67c6-46d9-a025-19dbe132e5a2",
   "metadata": {},
   "outputs": [],
   "source": [
    "df = get_price_and_squared_price_df(initial_purchase_price, final_price)"
   ]
  },
  {
   "cell_type": "code",
   "execution_count": 6,
   "id": "fdf72837-3a18-4566-9dac-4d82a22ddd94",
   "metadata": {},
   "outputs": [],
   "source": [
    "initial_capital = 10000  # USDC\n",
    "eth_squared_position = initial_capital / (initial_purchase_price ** 2) # how many units of eth**2 do you own\n",
    "\n",
    "gamma = 2 # gamma of ETH^2 is 2\n",
    "leverage = 2 # gamma of 2 requires 2x leverage, not sure relation with gamma\n",
    "delta = eth_squared_position * gamma * initial_purchase_price # delta of eth^2 is 2X\n",
    "notional_position = leverage * eth_squared_position * initial_purchase_price**2 # leveraged position size\n",
    "\n",
    "current_capital = initial_capital"
   ]
  },
  {
   "cell_type": "code",
   "execution_count": 7,
   "id": "e5973114-12cc-4f5f-a16f-81d5fb699c3e",
   "metadata": {},
   "outputs": [],
   "source": [
    "for i in range(1, df.shape[0]):\n",
    "    price_change = (df.loc[i, 'underlying'] - df.loc[i-1, 'underlying']) / df.loc[i-1, 'underlying']\n",
    "    current_capital += price_change * notional_position # P&L calculation\n",
    "    delta = eth_squared_position * gamma * df.loc[i, 'underlying'] # delta (first derivative) of X^2 is 2X\n",
    "    notional_position = leverage * eth_squared_position * df.loc[i, 'square'] # rebalance position_size"
   ]
  },
  {
   "cell_type": "code",
   "execution_count": 8,
   "id": "fffbc994-2966-4572-a269-426c917e9613",
   "metadata": {},
   "outputs": [],
   "source": [
    "# see that numbers are similar"
   ]
  },
  {
   "cell_type": "code",
   "execution_count": 9,
   "id": "9f23709e-1651-4a76-a45e-305b4c75d15a",
   "metadata": {},
   "outputs": [
    {
     "data": {
      "text/plain": [
       "89980.00000000001"
      ]
     },
     "execution_count": 9,
     "metadata": {},
     "output_type": "execute_result"
    }
   ],
   "source": [
    "current_capital"
   ]
  },
  {
   "cell_type": "code",
   "execution_count": 10,
   "id": "33150eec-4333-414c-9793-682964f552e8",
   "metadata": {},
   "outputs": [
    {
     "data": {
      "text/plain": [
       "90000.0"
      ]
     },
     "execution_count": 10,
     "metadata": {},
     "output_type": "execute_result"
    }
   ],
   "source": [
    "df.loc[2000, 'square'] * eth_squared_position"
   ]
  }
 ],
 "metadata": {
  "kernelspec": {
   "display_name": "Python 3 (ipykernel)",
   "language": "python",
   "name": "python3"
  },
  "language_info": {
   "codemirror_mode": {
    "name": "ipython",
    "version": 3
   },
   "file_extension": ".py",
   "mimetype": "text/x-python",
   "name": "python",
   "nbconvert_exporter": "python",
   "pygments_lexer": "ipython3",
   "version": "3.9.5"
  }
 },
 "nbformat": 4,
 "nbformat_minor": 5
}
